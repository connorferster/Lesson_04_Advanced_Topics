{
 "cells": [
  {
   "cell_type": "markdown",
   "id": "f2d7da6b",
   "metadata": {},
   "source": [
    "# Intermediate Topics:\n",
    "\n",
    "1. Understanding variable assignments: references vs copies\n",
    "    * Mutable vs immutable objects\n",
    "    * `copy.copy` and `copy.deepcopy`\n",
    "2. Function keyword arguments\n",
    "3. List comprehensions"
   ]
  },
  {
   "cell_type": "markdown",
   "id": "8c604cc3",
   "metadata": {},
   "source": [
    "# 1. Mutable and Immutable data"
   ]
  },
  {
   "cell_type": "markdown",
   "id": "88937a17",
   "metadata": {},
   "source": [
    "When we assign a value to a variable in Python a couple of different things could be happening depending on what the value of the variable is and what kind of data type it is, a mutable or immutable datatype (alterable data or inalterable data).\n",
    "\n",
    "Mutable types in Python:\n",
    "* `list`\n",
    "* `dict` (coming in Lesson 5)\n",
    "* `set`\n",
    "\n",
    "Immutable types in Python:\n",
    "* `str`\n",
    "* `int`\n",
    "* `float`\n",
    "* `tuple`\n",
    "\n",
    "Notice how all the mutable types are \"collection\" types and (most) of the immutable types are \"atomic\" (`tuple` is a collection type)?\n",
    "\n",
    "### What does it mean for `str` to be \"immutable\"? \n",
    "\n",
    "I can do this, yeah?:\n",
    "\n",
    "```python\n",
    "my_string = \"Excelsior!\"\n",
    "my_string = my_string.replace(\"E\", \"X\") # \"Xxcelsior!\"\n",
    "print(my_string)\n",
    "```\n",
    "\n",
    "This means the `str` in `my_string` was altered, right? Not quite. What happened was that `my_string` was created (`Excelsior!`) and then a _new_ string was created with the value of `\"Xxcelsior!\"`. The value of `my_string` was then _over-written_ with the new string. `Excelsior!` itself was not changed and it remained `Excelsior!` but because no variable had that value any more, it was deleted from memory by the garbage collector.\n",
    "\n",
    "Similar with `float` and `int`: when you do this...\n",
    "```python\n",
    "a = 4\n",
    "b = 3.4\n",
    "c = a + b # 7.4\n",
    "c = c + 1 # 8.4\n",
    "```\n",
    "\n",
    "The actual value of `7.4` was not changed. It remained `7.4` but a _new_ `float` with the value of `8.4` was created and then it was assigned as the value of `c`. The value of `c` was overwritten with the new value.\n",
    "\n",
    "### What does it mean for `list` to be \"mutable\"?\n",
    "\n",
    "If I do this:\n",
    "\n",
    "```python\n",
    "my_list = [\"cat\", \"hat\"]\n",
    "my_list.append(\"bat\")\n",
    "print(my_list) # [\"cat\", \"hat\", \"bat\"]\n",
    "```\n",
    "\n",
    "I see that `my_list` now has the appended value. But, how do I know that `my_list`, itself, changed and I didn't just get a new `list` with the new value appended?\n",
    "\n",
    "Because of this:\n",
    "\n",
    "```python\n",
    "my_list = [\"cat\", \"hat\"]\n",
    "my_list.append(\"bat\") # <------- It's not: my_list = my_list.append(\"bat\")\n",
    "```\n",
    "\n",
    "vs.\n",
    "\n",
    "```python\n",
    "my_string = \"Excelsior!\"\n",
    "my_string = my_string.replace(\"E\", \"X\") # <----- It is: my_string = my_string.replace(\"E\", \"X\")\n",
    "```\n",
    "\n",
    "When we append something to a `list`, we are changing the list _in-place_. Mutable types can be changed _in-place_ whereas immutable types create a new, changed object when \"altered\"."
   ]
  },
  {
   "cell_type": "markdown",
   "id": "3ed13821",
   "metadata": {},
   "source": [
    "## Variable assignment does not create a copy\n",
    "\n",
    "In Python, variable assignment merely _binds_ the variable name to the value. It does not make a duplicate or copy."
   ]
  },
  {
   "cell_type": "code",
   "execution_count": 32,
   "id": "fdc576ef",
   "metadata": {},
   "outputs": [
    {
     "name": "stdout",
     "output_type": "stream",
     "text": [
      "True\n",
      "True\n"
     ]
    }
   ],
   "source": [
    "a = \"cat\"\n",
    "b = \"cat\"\n",
    "print(a == b) # Testing to see if the _value_ of `a` is the same as the _value_ of `b`\n",
    "print(a is b) # Testing to see if `a` is pointing to the same object in memory as `b`"
   ]
  },
  {
   "cell_type": "markdown",
   "id": "48770023",
   "metadata": {},
   "source": [
    "Say we create `'cat'` in variable `a`. \n",
    "\n",
    "To create variable `b`, we start with `'cat'` and append `'bat'` to it (now, `'catbat'`). \n",
    "\n",
    "Then we call `.replace('bat', '')` so we end up with just `'cat'`. Are both variables now pointing to the same `'cat'`?"
   ]
  },
  {
   "cell_type": "code",
   "execution_count": 33,
   "id": "fcacabe5",
   "metadata": {},
   "outputs": [
    {
     "name": "stdout",
     "output_type": "stream",
     "text": [
      "True\n",
      "False\n"
     ]
    }
   ],
   "source": [
    "a = \"cat\"\n",
    "b = (\"cat\" + \"bat\").replace(\"bat\", \"\")\n",
    "print(a == b)\n",
    "print(a is b) # False, these are different \"cat\""
   ]
  },
  {
   "cell_type": "markdown",
   "id": "62ce8e5c",
   "metadata": {},
   "source": [
    "Now, the `'cat'` in `a` and the `'cat'` in `b` are different objects in memory. This is possible because `str` is _immutable_ and new objects are created in memory as a result of transformations."
   ]
  },
  {
   "cell_type": "markdown",
   "id": "3e597575",
   "metadata": {},
   "source": [
    "## Lists as mutable objects: Two variables pointing to the _same_ data"
   ]
  },
  {
   "cell_type": "markdown",
   "id": "32d86334",
   "metadata": {},
   "source": [
    "`a` and `b` are two lists with the same content but created separately"
   ]
  },
  {
   "cell_type": "code",
   "execution_count": 34,
   "id": "f138afad",
   "metadata": {
    "scrolled": false
   },
   "outputs": [
    {
     "name": "stdout",
     "output_type": "stream",
     "text": [
      "True\n",
      "False\n"
     ]
    }
   ],
   "source": [
    "a = [\"cat\", \"bat\"]\n",
    "b = [\"cat\", \"bat\"]\n",
    "print(a == b) # They have the same value\n",
    "print(a is b) # But they point to different data in memory"
   ]
  },
  {
   "cell_type": "markdown",
   "id": "56baa5cf",
   "metadata": {},
   "source": [
    "If we append `'hat'` to the list `a`, we do not expect `b` to change because `b` is a separate object in memory."
   ]
  },
  {
   "cell_type": "code",
   "execution_count": 35,
   "id": "46e28e13",
   "metadata": {},
   "outputs": [
    {
     "name": "stdout",
     "output_type": "stream",
     "text": [
      "False\n",
      "False\n",
      "['cat', 'bat', 'hat']\n",
      "['cat', 'bat']\n"
     ]
    }
   ],
   "source": [
    "a.append(\"hat\")\n",
    "\n",
    "print(a == b) # No longer the same value\n",
    "print(a is b) # Certainly not the same object in memory\n",
    "\n",
    "print(a) # The new value of a\n",
    "print(b) # The original value of b"
   ]
  },
  {
   "cell_type": "markdown",
   "id": "e737ab90",
   "metadata": {},
   "source": [
    "**Now, note the following:**\n",
    "\n",
    "`a` is a list and `b` is assigned the same value. \n",
    "\n",
    "`b` is _referencing_ `a` and they are both pointing to the same object in memory.\n",
    "\n",
    "Writing `b = a` does NOT create a copy of `a`!"
   ]
  },
  {
   "cell_type": "code",
   "execution_count": 36,
   "id": "07f20fb4",
   "metadata": {},
   "outputs": [
    {
     "name": "stdout",
     "output_type": "stream",
     "text": [
      "True\n",
      "True\n"
     ]
    }
   ],
   "source": [
    "a = [\"cat\", \"bat\"]\n",
    "b = a\n",
    "print(a == b) # Their values are equal\n",
    "print(a is b) # And! They are pointing to the same object in memory"
   ]
  },
  {
   "cell_type": "markdown",
   "id": "1cfc9410",
   "metadata": {},
   "source": [
    "If we append `hat` to the list`a`, we do expect `b` to change, also."
   ]
  },
  {
   "cell_type": "code",
   "execution_count": 37,
   "id": "a75c478c",
   "metadata": {},
   "outputs": [
    {
     "name": "stdout",
     "output_type": "stream",
     "text": [
      "['cat', 'bat', 'hat']\n",
      "True\n",
      "True\n",
      "['cat', 'bat', 'hat']\n"
     ]
    }
   ],
   "source": [
    "a.append(\"hat\")\n",
    "print(a)\n",
    "print(a == b) # b magically has the same value as a!\n",
    "print(a is b) # In fact, b still is pointing to the same variable as a!\n",
    "print(b)"
   ]
  },
  {
   "cell_type": "markdown",
   "id": "02b5acec",
   "metadata": {},
   "source": [
    "**This is possible only because `list` is a mutable data type. This same behaviour can occur with all mutable data types because they can change _in-place_. It will not occur with immutable data types because new objects are created when an immutable object is \"altered\".**"
   ]
  },
  {
   "cell_type": "markdown",
   "id": "679ca2c5",
   "metadata": {},
   "source": [
    "## Ok, Python, that's weird. I want to make _copies_ of my data. How?\n",
    "\n",
    "You can use the `copy` module in the Python standard library:\n",
    "\n",
    "```python\n",
    "import copy\n",
    "a = [\"cat\", \"bat\"]\n",
    "b = copy.copy(a)\n",
    "print(a == b)\n",
    "print(a is b)\n",
    "```"
   ]
  },
  {
   "cell_type": "code",
   "execution_count": 38,
   "id": "6c56a84d",
   "metadata": {},
   "outputs": [
    {
     "name": "stdout",
     "output_type": "stream",
     "text": [
      "True\n",
      "False\n"
     ]
    }
   ],
   "source": [
    "import copy\n",
    "a = [\"cat\", \"bat\"]\n",
    "b = copy.copy(a)\n",
    "print(a == b)\n",
    "print(a is b)"
   ]
  },
  {
   "cell_type": "markdown",
   "id": "5d68d63f",
   "metadata": {},
   "source": [
    "### Okay, cool. But watch this!"
   ]
  },
  {
   "cell_type": "code",
   "execution_count": 39,
   "id": "bbd229c6",
   "metadata": {},
   "outputs": [
    {
     "name": "stdout",
     "output_type": "stream",
     "text": [
      "['cat', ['bat', 'hat']]\n"
     ]
    }
   ],
   "source": [
    "import copy\n",
    "a = [\"cat\", [\"bat\"]] # Second item in the list is a list with one str in it.\n",
    "b = copy.copy(a)\n",
    "\n",
    "a[1].append(\"hat\") # Append onto the second item in `a` list\n",
    "print(b)"
   ]
  },
  {
   "cell_type": "markdown",
   "id": "f20ff6fb",
   "metadata": {},
   "source": [
    "**What?! I thought we copied the list?! Why is `b` still changing when I change `a`??**\n",
    "\n",
    "Using `copy.copy()` only creates a _shallow_ copy. That is, it copies only the _outer_ list but not creating copies of all the data inside the list. To do that, you need `copy.deepcopy()`"
   ]
  },
  {
   "cell_type": "code",
   "execution_count": 40,
   "id": "b06db33f",
   "metadata": {},
   "outputs": [
    {
     "name": "stdout",
     "output_type": "stream",
     "text": [
      "['cat', ['bat', 'hat']]\n",
      "['cat', ['bat']]\n"
     ]
    }
   ],
   "source": [
    "import copy\n",
    "a = [\"cat\", [\"bat\"]]\n",
    "b = copy.deepcopy(a)\n",
    "a[1].append(\"hat\")\n",
    "\n",
    "print(a)\n",
    "print(b) # b is different now"
   ]
  },
  {
   "cell_type": "markdown",
   "id": "70127611",
   "metadata": {},
   "source": [
    "## To recap (tl;dr):\n",
    "\n",
    "1. Python does not create copies of data through variable assignment; variable assignment only binds variable names to values\n",
    "2. Alterations or transformations to immutable data creates new immutable values (i.e. the transformation returns a new value)\n",
    "3. Alterations or transformations to mutable data are performed in-place (i.e. the transformation only returns None)\n",
    "4. To create an actual copy of mutable data, you must use `copy.deepcopy()`"
   ]
  },
  {
   "cell_type": "markdown",
   "id": "08f8d9e1",
   "metadata": {},
   "source": [
    "# 2. Function keyword arguments"
   ]
  },
  {
   "cell_type": "markdown",
   "id": "52be82e2",
   "metadata": {},
   "source": [
    "As we have been writing functions so far, we have been creating functions with _positional_ arguments: the function knows which-arguments-are-which purely based on the order they are entered.\n",
    "\n",
    "e.g.\n",
    "\n",
    "```python\n",
    "def my_func(a: str, b: int, c: bool) -> str:\n",
    "    \"\"\"\n",
    "    Returns a sentence describing the values of the\n",
    "    arguments 'a', 'b', and 'c'.\n",
    "    \"\"\"\n",
    "    return f\"The string provided is '{a}'; the integer provided was '{b}'; the boolean provided was '{c}'\"\n",
    "```"
   ]
  },
  {
   "cell_type": "code",
   "execution_count": 1,
   "id": "8ece9586",
   "metadata": {},
   "outputs": [],
   "source": [
    "def my_func(a: str, b: int, c: bool) -> str:\n",
    "    \"\"\"\n",
    "    Returns a sentence describing the values of the\n",
    "    arguments 'a', 'b', and 'c'.\n",
    "    \"\"\"\n",
    "    return f\"The string provided is '{a}'; the integer provided was '{b}'; the boolean provided was '{c}'\""
   ]
  },
  {
   "cell_type": "markdown",
   "id": "7563bd38",
   "metadata": {},
   "source": [
    "If we try to run `my_func` without all of the variables, then we will get an error"
   ]
  },
  {
   "cell_type": "code",
   "execution_count": 42,
   "id": "0981c061",
   "metadata": {},
   "outputs": [
    {
     "ename": "TypeError",
     "evalue": "my_func() missing 1 required positional argument: 'c'",
     "output_type": "error",
     "traceback": [
      "\u001b[0;31m---------------------------------------------------------------------------\u001b[0m",
      "\u001b[0;31mTypeError\u001b[0m                                 Traceback (most recent call last)",
      "\u001b[0;32m<ipython-input-42-d695ae57c4c7>\u001b[0m in \u001b[0;36m<module>\u001b[0;34m\u001b[0m\n\u001b[0;32m----> 1\u001b[0;31m \u001b[0mmy_func\u001b[0m\u001b[0;34m(\u001b[0m\u001b[0;34m\"Cat!\"\u001b[0m\u001b[0;34m,\u001b[0m \u001b[0;36m43\u001b[0m\u001b[0;34m)\u001b[0m\u001b[0;34m\u001b[0m\u001b[0;34m\u001b[0m\u001b[0m\n\u001b[0m",
      "\u001b[0;31mTypeError\u001b[0m: my_func() missing 1 required positional argument: 'c'"
     ]
    }
   ],
   "source": [
    "my_func(\"Cat!\", 43)"
   ]
  },
  {
   "cell_type": "markdown",
   "id": "df38b3c0",
   "metadata": {},
   "source": [
    "We have to give all arguments:"
   ]
  },
  {
   "cell_type": "code",
   "execution_count": 43,
   "id": "14b2a1d2",
   "metadata": {},
   "outputs": [
    {
     "data": {
      "text/plain": [
       "\"The string provided is 'Cat!'; the integer provided was '43'; the boolean provided was 'False'\""
      ]
     },
     "execution_count": 43,
     "metadata": {},
     "output_type": "execute_result"
    }
   ],
   "source": [
    "my_func(\"Cat!\", 43, False)"
   ]
  },
  {
   "cell_type": "markdown",
   "id": "13122f42",
   "metadata": {},
   "source": [
    "I can, conceivably, enter the arguments out of order and the function will still run. Remember, while we used type annotations to describe the type of data we were expecting for each argument, Python does NOT enforce them.\n",
    "\n",
    "But, the output of my function will be wrong because I put the inputs in the wrong order."
   ]
  },
  {
   "cell_type": "code",
   "execution_count": 44,
   "id": "84fa9cc5",
   "metadata": {
    "scrolled": true
   },
   "outputs": [
    {
     "data": {
      "text/plain": [
       "\"The string provided is '43'; the integer provided was 'True'; the boolean provided was 'Cat!'\""
      ]
     },
     "execution_count": 44,
     "metadata": {},
     "output_type": "execute_result"
    }
   ],
   "source": [
    "my_func(43, True, \"Cat!\")"
   ]
  },
  {
   "cell_type": "markdown",
   "id": "eede0049",
   "metadata": {},
   "source": [
    "### What if you wanted an argument to be optional? \n",
    "\n",
    "Say, you wanted the function to do something extra only if an extra argument was provided.\n",
    "\n",
    "This can be done through _keyword arguments_."
   ]
  },
  {
   "cell_type": "markdown",
   "id": "5f87eaca",
   "metadata": {},
   "source": [
    "## Keyword Arguments\n",
    "\n",
    "Using the function below, I can run this function even without providing any arguments"
   ]
  },
  {
   "cell_type": "code",
   "execution_count": 50,
   "id": "5206aab5",
   "metadata": {},
   "outputs": [],
   "source": [
    "def my_func(a: str = \"My default string\", b: int = 10, c: bool = True):\n",
    "    \"\"\"\n",
    "    Returns a sentence describing the values of the\n",
    "    arguments 'a', 'b', and 'c'.\n",
    "    \"\"\"\n",
    "    return f\"The string provided is '{a}'; the integer provided was '{b}'; the boolean provided was '{c}'\""
   ]
  },
  {
   "cell_type": "code",
   "execution_count": 51,
   "id": "99208dac",
   "metadata": {},
   "outputs": [
    {
     "data": {
      "text/plain": [
       "\"The string provided is 'My default string'; the integer provided was '10'; the boolean provided was 'True'\""
      ]
     },
     "execution_count": 51,
     "metadata": {},
     "output_type": "execute_result"
    }
   ],
   "source": [
    "my_func()"
   ]
  },
  {
   "cell_type": "markdown",
   "id": "96fc93b4",
   "metadata": {},
   "source": [
    "Or, I can change just some of the arguments:"
   ]
  },
  {
   "cell_type": "code",
   "execution_count": 52,
   "id": "bb518cf3",
   "metadata": {},
   "outputs": [
    {
     "data": {
      "text/plain": [
       "\"The string provided is 'My default string'; the integer provided was '43'; the boolean provided was 'False'\""
      ]
     },
     "execution_count": 52,
     "metadata": {},
     "output_type": "execute_result"
    }
   ],
   "source": [
    "my_func(b=43, c=False)"
   ]
  },
  {
   "cell_type": "markdown",
   "id": "9f0ad3ed",
   "metadata": {},
   "source": [
    "Or, I can change them all and enter them out of order"
   ]
  },
  {
   "cell_type": "code",
   "execution_count": 53,
   "id": "1ff5ee4e",
   "metadata": {},
   "outputs": [
    {
     "data": {
      "text/plain": [
       "\"The string provided is 'A new string'; the integer provided was '23'; the boolean provided was 'False'\""
      ]
     },
     "execution_count": 53,
     "metadata": {},
     "output_type": "execute_result"
    }
   ],
   "source": [
    "my_func(b=23, c=False, a=\"A new string\")"
   ]
  },
  {
   "cell_type": "markdown",
   "id": "bdb52e5e",
   "metadata": {},
   "source": [
    "But notice how we still get a correct output even though our arguments are entered in the \"wrong\" order?"
   ]
  },
  {
   "cell_type": "markdown",
   "id": "f3264762",
   "metadata": {},
   "source": [
    "**Note: The way Python works with keyword arguments is that they have to appear _after_ any positional arguments in the function signature.**"
   ]
  },
  {
   "cell_type": "markdown",
   "id": "093af6c3",
   "metadata": {},
   "source": [
    "This will cause an error because I am using keyword arguments _first_ before the positional arguments. They must appear _last_."
   ]
  },
  {
   "cell_type": "code",
   "execution_count": 54,
   "id": "63bb39e3",
   "metadata": {},
   "outputs": [
    {
     "ename": "SyntaxError",
     "evalue": "non-default argument follows default argument (<ipython-input-54-885cd3bc57f7>, line 1)",
     "output_type": "error",
     "traceback": [
      "\u001b[0;36m  File \u001b[0;32m\"<ipython-input-54-885cd3bc57f7>\"\u001b[0;36m, line \u001b[0;32m1\u001b[0m\n\u001b[0;31m    def my_func(a: str = \"My default string\", b: int, c: bool): # b and c are positional arguments\u001b[0m\n\u001b[0m               ^\u001b[0m\n\u001b[0;31mSyntaxError\u001b[0m\u001b[0;31m:\u001b[0m non-default argument follows default argument\n"
     ]
    }
   ],
   "source": [
    "def my_func(a: str = \"My default string\", b: int, c: bool): # b and c are positional arguments\n",
    "    \"\"\"\n",
    "    Returns a sentence describing the values of the\n",
    "    arguments 'a', 'b', and 'c'.\n",
    "    \"\"\"\n",
    "    return f\"The string provided is '{a}'; the integer provided was '{b}'; the boolean provided was '{c}'\""
   ]
  },
  {
   "cell_type": "markdown",
   "id": "dfe5ad6e",
   "metadata": {},
   "source": [
    "This is ok:"
   ]
  },
  {
   "cell_type": "code",
   "execution_count": 55,
   "id": "35144579",
   "metadata": {},
   "outputs": [],
   "source": [
    "def my_func(a: str, b: int = 10, c: bool  = True): # a is the positional argument\n",
    "    \"\"\"\n",
    "    Returns a sentence describing the values of the\n",
    "    arguments 'a', 'b', and 'c'.\n",
    "    \"\"\"\n",
    "    return f\"The string provided is '{a}'; the integer provided was '{b}'; the boolean provided was '{c}'\""
   ]
  },
  {
   "cell_type": "markdown",
   "id": "301954e8",
   "metadata": {},
   "source": [
    "Now, when calling the function, the first argument _has_ to be entered but the second and third arguments are optional"
   ]
  },
  {
   "cell_type": "code",
   "execution_count": 56,
   "id": "99b922b9",
   "metadata": {},
   "outputs": [
    {
     "data": {
      "text/plain": [
       "\"The string provided is 'This arg is not optional'; the integer provided was '10'; the boolean provided was 'False'\""
      ]
     },
     "execution_count": 56,
     "metadata": {},
     "output_type": "execute_result"
    }
   ],
   "source": [
    "my_func(\"This arg is not optional\", c=False)"
   ]
  },
  {
   "cell_type": "markdown",
   "id": "26c9b532",
   "metadata": {},
   "source": [
    "**Note: If I am only entering the third argument `c`, then I have to be clear about which argument I am entering by stating `c=False`. If I just entered `False`, Python will assume I am entering the `b` argument because it comes after `a`. Even if the arguments are keyword args, they also still have an order.**"
   ]
  },
  {
   "cell_type": "markdown",
   "id": "07a07c0c",
   "metadata": {},
   "source": [
    "## To recap (tl;dr):\n",
    "\n",
    "1. When writing your function signature, you can indicate that some arguments are optional by providing a default value: `def my_func(a: str = \"my default value\", ...) -> ...:`\n",
    "2. Keyword arguments can be entered out of order so long as they declared specifically: `my_func(c=False, a=\"My new str\")`\n",
    "3. When using keyword arguments in your function signature, you must declare your positional (non-optional) arguments _first_, then your keyword (optional) arguments"
   ]
  },
  {
   "cell_type": "markdown",
   "id": "51dd5aa0",
   "metadata": {},
   "source": [
    "# 3. List Comprehensions"
   ]
  },
  {
   "cell_type": "markdown",
   "id": "7c101ab8",
   "metadata": {},
   "source": [
    "List comprehensions are a powerful feature of Python. It provides a way of doing simple loop, transformation, and/or filtering in one line instead of making a full loop.\n",
    "\n",
    "An example:"
   ]
  },
  {
   "cell_type": "code",
   "execution_count": 4,
   "id": "fababb0b",
   "metadata": {},
   "outputs": [
    {
     "name": "stdout",
     "output_type": "stream",
     "text": [
      "['APPLE!', 'PEAR!', 'GUAVA!']\n"
     ]
    }
   ],
   "source": [
    "fruits = [\"apple\", \"pear\", \"guava\", \"boysenberry\"]\n",
    "loud_fruits = [] # my accumulator\n",
    "for fruit in fruits:\n",
    "    if \"a\" in fruit:\n",
    "        loud_fruits.append(fruit.upper() + \"!\")\n",
    "        \n",
    "print(loud_fruits)"
   ]
  },
  {
   "cell_type": "markdown",
   "id": "46ad431a",
   "metadata": {},
   "source": [
    "Using a list comprehension, this can become:"
   ]
  },
  {
   "cell_type": "code",
   "execution_count": 5,
   "id": "d0c7f5ca",
   "metadata": {},
   "outputs": [
    {
     "name": "stdout",
     "output_type": "stream",
     "text": [
      "['APPLE!', 'PEAR!', 'GUAVA!']\n"
     ]
    }
   ],
   "source": [
    "loud_fruits = [fruit.upper() + \"!\" for fruit in fruits if \"a\" in fruit]\n",
    "print(loud_fruits)"
   ]
  },
  {
   "cell_type": "markdown",
   "id": "41b695d4",
   "metadata": {},
   "source": [
    "### List Comprehension syntax\n",
    "\n",
    "It took me a while to get this firmly stuck in my brain. So, don't feel bad if you find yourself Google-ing \"Python list comprehension syntax\" from time to time."
   ]
  },
  {
   "cell_type": "markdown",
   "id": "627acbfd",
   "metadata": {},
   "source": [
    "```python\n",
    "[<do this thing> for <item> in <collection>]\n",
    "\n",
    "# Optionally, you can also have a basic if for filtering\n",
    "\n",
    "[<do this thing with item> for <item> in <collection> if <condition check with item>]\n",
    "```"
   ]
  },
  {
   "cell_type": "markdown",
   "id": "92c37736",
   "metadata": {},
   "source": [
    "**Some Examples**"
   ]
  },
  {
   "cell_type": "markdown",
   "id": "740c1c10",
   "metadata": {},
   "source": [
    "Sometimes the \"do this thing\" part is just that you want the item added to the list if some condition is met. It would look like this:\n",
    "\n",
    "```python\n",
    "[item for item in collection if \"a\" in item] # For example\n",
    "```\n",
    "\n",
    "Other times, you may want to do a simple transformation, like this:\n",
    "\n",
    "```python\n",
    "[item.title() for item in collection]\n",
    "```\n",
    "\n",
    "You can use list comprehensions to filter out empty strings from a list effectively:\n",
    "\n",
    "```python\n",
    "[string for string in my_list_of_strings if string]\n",
    "```"
   ]
  },
  {
   "cell_type": "markdown",
   "id": "0c8a210d",
   "metadata": {},
   "source": [
    "### Benefits of list comprehensions\n",
    "\n",
    "1. Less typing\n",
    "2. Simple ideas can be expressed and executed on one line (can be easier to read than a full loop)\n",
    "3. Slight performance gain because the Python parser reads the whole loop on one line and can optimize how it compiles into bytecode because it has all the conditions of the loop at once."
   ]
  },
  {
   "cell_type": "markdown",
   "id": "8bf1d255",
   "metadata": {},
   "source": [
    "### How far can you go with a list comprehension? Can I do \"too much\"? \n",
    "\n",
    "**Yes, you can do too much**\n",
    "\n",
    "For example:\n",
    "\n",
    "```python\n",
    "matrix_data = [[1, 2, 3],\n",
    "               [4, 5, 6], \n",
    "               [7, 8, 9]]\n",
    "\n",
    "double_evens_with_odds_negative = [2*j if j%2 == 0 else -j for i in matrix_data for j in i]\n",
    "```\n",
    "\n",
    "This kind of logic can get hard to follow when reading it all on one line. It might be easier to follow in a full `for` loop:\n",
    "\n",
    "```python\n",
    "double_evens_with_odds_negative = []\n",
    "for i in matrix_data:\n",
    "    for j in i:\n",
    "        if j%2 == 0:\n",
    "            double_evens_with_odds_negative.append(2*j)\n",
    "        else:\n",
    "            double_evens_with_odds_negative.append(-j)\n",
    "```\n",
    "\n",
    "But, here is the syntax do such magery:\n",
    "\n",
    "```python\n",
    "[statement for sublist in mainlist for item in sublist]\n",
    "```\n",
    "\n",
    "In this case we used the following statement in place of `<do this with item`:\n",
    "\n",
    "```python\n",
    "2*j if j%2 == 0 else -j\n",
    "```\n",
    "\n",
    "The double for loop is accomplished in the list comprehension in the same order you would use if you were to write it out in full:\n",
    "\n",
    "e.g. \n",
    "\n",
    "```python\n",
    "for sublist in mainlist:\n",
    "    for item in sublist:\n",
    "        <do this with item>\n",
    "```\n",
    "\n",
    "Becomes:\n",
    "\n",
    "```python\n",
    "[<do this with item> for sublist in mainlist for item in sublist]\n",
    "```"
   ]
  },
  {
   "cell_type": "markdown",
   "id": "d64a0308",
   "metadata": {},
   "source": [
    "## To recap (tl;dr):\n",
    "\n",
    "1. List comprehensions are a Python feature that can make your code more expressive and faster to write\n",
    "2. They can be used for quick transformations and/or filtering of data in a collection\n",
    "3. The basic syntax: `[<do this with item> for item in collection <optional condition with item>]`\n",
    "4. You _can_ do too much with a list comprehension. As a general rule, if it does not fit on one line, break it up into a regular `for` loop."
   ]
  },
  {
   "cell_type": "markdown",
   "id": "5b7f9d3b",
   "metadata": {},
   "source": [
    "# One final note about keyword arguments and list comprehensions in your workbooks\n",
    "\n",
    "Because this first iteration of the Python course has students of multiple abilities, please refrain from using keyword arguments and list comprehensions in the workbooks you submit until _after_ **Workbook 07** until I have had an opportunity to introduce them to everyone. Feel free to play around with them in your workbooks but try to refrain from using them in the workbook that you will be having reviewed by someone else who may be utterly confused if they see them without having been introduced to them.\n",
    "\n",
    "Thanks for your interest in Python and this course so far! Hopefully, you found this additional information useful and satisfying. 🐍\n"
   ]
  },
  {
   "cell_type": "code",
   "execution_count": null,
   "id": "0c035f97",
   "metadata": {},
   "outputs": [],
   "source": []
  }
 ],
 "metadata": {
  "kernelspec": {
   "display_name": "Python 3",
   "language": "python",
   "name": "python3"
  },
  "language_info": {
   "codemirror_mode": {
    "name": "ipython",
    "version": 3
   },
   "file_extension": ".py",
   "mimetype": "text/x-python",
   "name": "python",
   "nbconvert_exporter": "python",
   "pygments_lexer": "ipython3",
   "version": "3.7.10"
  },
  "varInspector": {
   "cols": {
    "lenName": 16,
    "lenType": 16,
    "lenVar": 40
   },
   "kernels_config": {
    "python": {
     "delete_cmd_postfix": "",
     "delete_cmd_prefix": "del ",
     "library": "var_list.py",
     "varRefreshCmd": "print(var_dic_list())"
    },
    "r": {
     "delete_cmd_postfix": ") ",
     "delete_cmd_prefix": "rm(",
     "library": "var_list.r",
     "varRefreshCmd": "cat(var_dic_list()) "
    }
   },
   "types_to_exclude": [
    "module",
    "function",
    "builtin_function_or_method",
    "instance",
    "_Feature"
   ],
   "window_display": false
  }
 },
 "nbformat": 4,
 "nbformat_minor": 5
}
